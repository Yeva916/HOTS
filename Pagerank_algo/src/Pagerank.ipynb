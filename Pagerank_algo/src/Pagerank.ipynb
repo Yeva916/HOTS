{
 "cells": [
  {
   "cell_type": "markdown",
   "id": "7481f105-1470-459d-8db8-92603660832b",
   "metadata": {},
   "source": [
    "## Question1"
   ]
  },
  {
   "cell_type": "code",
   "execution_count": 1,
   "id": "b7dffd2b-cc3d-4375-9e59-230b7262cd05",
   "metadata": {},
   "outputs": [],
   "source": [
    "import numpy as np"
   ]
  },
  {
   "cell_type": "markdown",
   "id": "05e57741-144f-4e02-a54b-a4527eff4fea",
   "metadata": {},
   "source": [
    "G is the eigen vector which is found by using the formula given in the pdf"
   ]
  },
  {
   "cell_type": "code",
   "execution_count": 2,
   "id": "a88e3e51-25d5-40c2-9884-210821a8988b",
   "metadata": {},
   "outputs": [],
   "source": [
    "G = np.matrix([[0,1/4,0,1/4,1/4,1/4],[0,0,0.5,0.5,0,0],[0,0,0,0,1,0],[0,0,0,0,1,0],[0.5,0,0,0.5,0,0],[0,0,0,0,1,0]]).transpose()"
   ]
  },
  {
   "cell_type": "code",
   "execution_count": 3,
   "id": "97b02736-8941-4b1d-8db9-5821703362de",
   "metadata": {},
   "outputs": [
    {
     "data": {
      "text/plain": [
       "matrix([[0.  , 0.  , 0.  , 0.  , 0.5 , 0.  ],\n",
       "        [0.25, 0.  , 0.  , 0.  , 0.  , 0.  ],\n",
       "        [0.  , 0.5 , 0.  , 0.  , 0.  , 0.  ],\n",
       "        [0.25, 0.5 , 0.  , 0.  , 0.5 , 0.  ],\n",
       "        [0.25, 0.  , 1.  , 1.  , 0.  , 1.  ],\n",
       "        [0.25, 0.  , 0.  , 0.  , 0.  , 0.  ]])"
      ]
     },
     "execution_count": 3,
     "metadata": {},
     "output_type": "execute_result"
    }
   ],
   "source": [
    "G"
   ]
  },
  {
   "cell_type": "markdown",
   "id": "06f4945d-3575-46cd-b84a-bd045dbe6328",
   "metadata": {},
   "source": [
    "lambda represent the eigen value and v represent the eigen vector"
   ]
  },
  {
   "cell_type": "markdown",
   "id": "57a7162a-fb68-4fa8-981a-f4236d88aa7e",
   "metadata": {},
   "source": [
    "G⃗v = λ⃗v"
   ]
  },
  {
   "cell_type": "markdown",
   "id": "4031e1a2-8ad6-4679-9040-bd909a555571",
   "metadata": {},
   "source": [
    "## Question 2"
   ]
  },
  {
   "cell_type": "code",
   "execution_count": 4,
   "id": "af97f899-a17a-4c5b-8e43-e6caaab8521f",
   "metadata": {},
   "outputs": [],
   "source": [
    "eigval,eigvect=np.linalg.eig(G)"
   ]
  },
  {
   "cell_type": "code",
   "execution_count": 5,
   "id": "8a32d539-fbb9-4739-87fb-6fe72dcb8da3",
   "metadata": {},
   "outputs": [
    {
     "data": {
      "text/plain": [
       "array([ 1.00000000e+00+0.j        , -1.39845075e-01+0.39240258j,\n",
       "       -1.39845075e-01-0.39240258j, -7.20309850e-01+0.j        ,\n",
       "        2.96003466e-17+0.j        , -2.47220661e-17+0.j        ])"
      ]
     },
     "execution_count": 5,
     "metadata": {},
     "output_type": "execute_result"
    }
   ],
   "source": [
    "eigval"
   ]
  },
  {
   "cell_type": "code",
   "execution_count": 6,
   "id": "50ce67f1-f5ab-4881-a712-21aa693c8a28",
   "metadata": {},
   "outputs": [
    {
     "data": {
      "text/plain": [
       "matrix([[ 3.77123617e-01+0.j        , -5.77040252e-01+0.j        ,\n",
       "         -5.77040252e-01-0.j        , -4.89508017e-01+0.j        ,\n",
       "          6.57629212e-16+0.j        , -1.20047319e-16+0.j        ],\n",
       "        [ 9.42809042e-02+0.j        ,  1.16252589e-01+0.32620252j,\n",
       "          1.16252589e-01-0.32620252j,  1.69894948e-01+0.j        ,\n",
       "          1.00171455e-16+0.j        ,  3.18707336e-17+0.j        ],\n",
       "        [ 4.71404521e-02+0.j        ,  3.21965131e-01-0.2628717j ,\n",
       "          3.21965131e-01+0.2628717j , -1.17931851e-01+0.j        ,\n",
       "         -6.78675509e-01+0.j        ,  1.14131990e-01+0.j        ],\n",
       "        [ 5.18544973e-01+0.j        , -1.38822532e-01+0.06333082j,\n",
       "         -1.38822532e-01-0.06333082j, -4.37544920e-01+0.j        ,\n",
       "          7.32465806e-01+0.j        , -7.57230559e-01+0.j        ],\n",
       "        [ 7.54247233e-01+0.j        ,  1.61392475e-01-0.45286417j,\n",
       "          1.61392475e-01+0.45286417j,  7.05194893e-01+0.j        ,\n",
       "         -2.83154890e-16+0.j        , -4.19341548e-16+0.j        ],\n",
       "        [ 9.42809042e-02+0.j        ,  1.16252589e-01+0.32620252j,\n",
       "          1.16252589e-01-0.32620252j,  1.69894948e-01+0.j        ,\n",
       "         -5.37902972e-02+0.j        ,  6.43098569e-01+0.j        ]])"
      ]
     },
     "execution_count": 6,
     "metadata": {},
     "output_type": "execute_result"
    }
   ],
   "source": [
    "eigvect"
   ]
  },
  {
   "cell_type": "code",
   "execution_count": null,
   "id": "db4f4e08-fcd6-4af6-9682-7d0fa726da2e",
   "metadata": {},
   "outputs": [],
   "source": []
  },
  {
   "cell_type": "markdown",
   "id": "b29b5a20-2f38-406d-87e4-f22b174f4bbc",
   "metadata": {},
   "source": [
    "# Diagonalization"
   ]
  },
  {
   "cell_type": "markdown",
   "id": "a2dee2d4-20fa-4622-a4f6-a12a80d3bd01",
   "metadata": {},
   "source": [
    "To understand this concept you can refer this [page](https://www.geeksforgeeks.org/matrix-diagonalization/)"
   ]
  },
  {
   "cell_type": "code",
   "execution_count": 7,
   "id": "b296970a-d801-4f2b-8bf3-37fb30e2137d",
   "metadata": {},
   "outputs": [],
   "source": [
    "D=np.diag(eigval)\n",
    "P = eigvect"
   ]
  },
  {
   "cell_type": "code",
   "execution_count": 8,
   "id": "4a5852a3-143b-4bbc-8ae5-ef8f9bed3148",
   "metadata": {},
   "outputs": [],
   "source": [
    "A = np.dot(np.dot(P,D),np.linalg.inv(P))"
   ]
  },
  {
   "cell_type": "code",
   "execution_count": 9,
   "id": "d064bc05-ab16-43af-adeb-2e38012dc83f",
   "metadata": {},
   "outputs": [
    {
     "data": {
      "text/plain": [
       "matrix([[ 9.71445147e-17-3.41196830e-18j,\n",
       "          0.00000000e+00+8.09702315e-18j,\n",
       "         -5.55111512e-17+5.12747844e-19j,\n",
       "          8.67361738e-17+1.82921273e-18j,\n",
       "          5.00000000e-01-1.48616819e-18j,\n",
       "          5.86336535e-16+3.87484767e-18j],\n",
       "        [ 2.50000000e-01+7.47451163e-18j,\n",
       "         -2.01135476e-16+2.08456324e-18j,\n",
       "          1.19576916e-16+2.27980962e-18j,\n",
       "         -1.02176478e-16+9.59229072e-19j,\n",
       "          6.10706352e-17+7.98530396e-18j,\n",
       "         -1.00429212e-16+1.76637521e-18j],\n",
       "        [-5.55111512e-17-5.12915316e-17j,\n",
       "          5.00000000e-01-5.87165126e-18j,\n",
       "          1.64798730e-16+2.49088538e-18j,\n",
       "          2.94902991e-17-4.45278853e-18j,\n",
       "          6.93889390e-17-7.84108343e-19j,\n",
       "          1.90819582e-17-5.52583780e-19j],\n",
       "        [ 2.50000000e-01-3.32834868e-17j,\n",
       "          5.00000000e-01+4.08744815e-18j,\n",
       "          2.88831459e-16+2.84600141e-18j,\n",
       "          1.96891115e-16+3.27078661e-18j,\n",
       "          5.00000000e-01+5.64284520e-18j,\n",
       "          6.91287305e-16+3.22040381e-18j],\n",
       "        [ 2.50000000e-01-8.98415979e-17j,\n",
       "          9.43689571e-16+3.20297572e-17j,\n",
       "          1.00000000e+00+1.64466154e-18j,\n",
       "          1.00000000e+00+1.24830995e-18j,\n",
       "          1.17961196e-16+1.48715292e-17j,\n",
       "          1.00000000e+00+8.12979962e-19j],\n",
       "        [ 2.50000000e-01+8.83423388e-18j,\n",
       "         -7.42084003e-17+9.36354967e-18j,\n",
       "          1.79788526e-16+1.94757415e-18j,\n",
       "         -4.63317649e-17+6.26993609e-19j,\n",
       "         -2.15322772e-17+5.71049361e-18j,\n",
       "         -8.39593547e-17+2.30150148e-18j]])"
      ]
     },
     "execution_count": 9,
     "metadata": {},
     "output_type": "execute_result"
    }
   ],
   "source": [
    "A"
   ]
  },
  {
   "cell_type": "code",
   "execution_count": 10,
   "id": "1dde135d-f5f8-4b6f-ae6e-0889bafdb2a2",
   "metadata": {},
   "outputs": [
    {
     "data": {
      "text/plain": [
       "False"
      ]
     },
     "execution_count": 10,
     "metadata": {},
     "output_type": "execute_result"
    }
   ],
   "source": [
    "np.array_equal(A,G)"
   ]
  },
  {
   "cell_type": "markdown",
   "id": "73a1937d-2421-48a0-bcee-6e2ad14e0532",
   "metadata": {},
   "source": [
    "clearly is visible that A and G don't match so G is not diagonalizable"
   ]
  },
  {
   "cell_type": "markdown",
   "id": "f6674e82-1fee-4edd-b2f3-1a99e6323ed6",
   "metadata": {},
   "source": [
    "## Question3"
   ]
  },
  {
   "cell_type": "markdown",
   "id": "07aac861-13b5-4ae4-a307-4c364e9c7821",
   "metadata": {},
   "source": [
    "This is the main algorithm "
   ]
  },
  {
   "cell_type": "code",
   "execution_count": 11,
   "id": "cf2bd4d6-e2b7-4e14-9218-d750816144a3",
   "metadata": {},
   "outputs": [],
   "source": [
    "def page_rank(H,tol=1e-6,max_iter=100,beta=0.8):\n",
    "    v1=np.array([[1/6,1/6,1/6,1/6,1/6,1/6]]).T\n",
    "    c=(1-beta)*v1\n",
    "    v0=v1\n",
    "    for i in range(0,1001):\n",
    "        v1= beta*(H @ v0)+c  \n",
    "        if np.sum(abs(v1-v0)) < tol: \n",
    "            print('the value of k is equal to ',i)\n",
    "            break\n",
    "        v0=v1\n",
    "    return v0"
   ]
  },
  {
   "cell_type": "markdown",
   "id": "d3587bad-36b2-4530-81b1-c29bbe0dcbc8",
   "metadata": {},
   "source": [
    "The vector which we get back from the page_rank function is basically the rank of the pages.Just for the purpose of better understanding I have multiplied by 100. You can refer [video](https://www.youtube.com/watch?v=gA3nDd_6QJM&list=PLJXHwy-4vGRY8QylvZomOvyYb1qZvTghk&index=6) to get deep knowledge"
   ]
  },
  {
   "cell_type": "code",
   "execution_count": 12,
   "id": "db8518bd-54cc-4e82-a76f-3987ceb7b26f",
   "metadata": {},
   "outputs": [
    {
     "name": "stdout",
     "output_type": "stream",
     "text": [
      "the value of k is equal to  24\n"
     ]
    },
    {
     "data": {
      "text/plain": [
       "matrix([[18.18758958],\n",
       "        [ 6.97084558],\n",
       "        [ 6.1216755 ],\n",
       "        [24.61344399],\n",
       "        [37.13559977],\n",
       "        [ 6.97084558]])"
      ]
     },
     "execution_count": 12,
     "metadata": {},
     "output_type": "execute_result"
    }
   ],
   "source": [
    "100*page_rank(G)"
   ]
  },
  {
   "cell_type": "code",
   "execution_count": null,
   "id": "006e7256-8853-4d33-89fb-2d78bbdc4c0c",
   "metadata": {},
   "outputs": [],
   "source": []
  },
  {
   "cell_type": "markdown",
   "id": "f5264584-fbad-46f3-84af-2cf6177d602b",
   "metadata": {},
   "source": [
    "# Question4"
   ]
  },
  {
   "cell_type": "markdown",
   "id": "e4181c2d-1e46-4e38-a000-a646e8712ae3",
   "metadata": {},
   "source": [
    "According to the question 4 the M is the eigen matrix of the following condition"
   ]
  },
  {
   "cell_type": "code",
   "execution_count": 13,
   "id": "3240f362-3a88-4325-a70d-4f63159f7a7a",
   "metadata": {},
   "outputs": [],
   "source": [
    "M = np.matrix([[0,1/5,1/5,1/5,1/5,1/5],[1/5,0,1/5,1/5,1/5,1/5],[1/5,1/5,0,1/5,1/5,1/5],[1/5,1/5,1/5,0,1/5,1/5],[1/5,1/5,1/5,1/5,0,1/5],[1/5,1/5,1/5,1/5,1/5,0]])"
   ]
  },
  {
   "cell_type": "code",
   "execution_count": 14,
   "id": "73e4c189-c7f4-4d1c-a698-fcf841f2cfee",
   "metadata": {},
   "outputs": [
    {
     "data": {
      "text/plain": [
       "matrix([[0. , 0.2, 0.2, 0.2, 0.2, 0.2],\n",
       "        [0.2, 0. , 0.2, 0.2, 0.2, 0.2],\n",
       "        [0.2, 0.2, 0. , 0.2, 0.2, 0.2],\n",
       "        [0.2, 0.2, 0.2, 0. , 0.2, 0.2],\n",
       "        [0.2, 0.2, 0.2, 0.2, 0. , 0.2],\n",
       "        [0.2, 0.2, 0.2, 0.2, 0.2, 0. ]])"
      ]
     },
     "execution_count": 14,
     "metadata": {},
     "output_type": "execute_result"
    }
   ],
   "source": [
    "M"
   ]
  },
  {
   "cell_type": "code",
   "execution_count": 15,
   "id": "59679bbd-45bb-4f49-8014-1922c8dc0ac4",
   "metadata": {},
   "outputs": [
    {
     "name": "stdout",
     "output_type": "stream",
     "text": [
      "the value of k is equal to  0\n"
     ]
    },
    {
     "data": {
      "text/plain": [
       "array([[0.16666667],\n",
       "       [0.16666667],\n",
       "       [0.16666667],\n",
       "       [0.16666667],\n",
       "       [0.16666667],\n",
       "       [0.16666667]])"
      ]
     },
     "execution_count": 15,
     "metadata": {},
     "output_type": "execute_result"
    }
   ],
   "source": [
    "page_rank(M)"
   ]
  },
  {
   "cell_type": "markdown",
   "id": "f1f6c0b7-6909-4c26-9d2e-4b92dd1f62ec",
   "metadata": {},
   "source": [
    "In question 3\n",
    "page1 -> rank3 page2 -> rank4 page3 -> rank5 page4 -> rank2 page5 -> rank1 page6 -> rank4\n",
    "\n",
    "In question 4\n",
    "All the rank of the pages is same "
   ]
  },
  {
   "cell_type": "code",
   "execution_count": null,
   "id": "028940d1-ab23-4a53-a85b-e6bda92503ba",
   "metadata": {},
   "outputs": [],
   "source": []
  },
  {
   "cell_type": "markdown",
   "id": "1b91b975-b780-4d31-8609-1edeca8ce391",
   "metadata": {},
   "source": [
    "# Question 5"
   ]
  },
  {
   "cell_type": "markdown",
   "id": "0135f59c-f0ab-4d3e-b102-c834fdef1010",
   "metadata": {},
   "source": [
    "According to the question 5 the N is the eigen matrix of the following condition"
   ]
  },
  {
   "cell_type": "code",
   "execution_count": 16,
   "id": "3e3cd2ca-9437-4d0e-bc55-ca3cf4bb804b",
   "metadata": {},
   "outputs": [],
   "source": [
    "N = np.matrix([[0,1/4,0,1/4,1/4,1/4],[0,0,0.5,0.5,0,0],[0,0,0,0,1,0],[1/6,1/6,1/6,1/6,1/6,1/6],[0.5,0,0,0.5,0,0],[0,0,0,0,1,0]]).transpose()"
   ]
  },
  {
   "cell_type": "code",
   "execution_count": 17,
   "id": "745dae39-abd4-49fc-93ce-fdf9b6d436c1",
   "metadata": {},
   "outputs": [
    {
     "name": "stdout",
     "output_type": "stream",
     "text": [
      "the value of k is equal to  15\n"
     ]
    },
    {
     "data": {
      "text/plain": [
       "matrix([[17.36735197],\n",
       "        [10.12559312],\n",
       "        [10.70238405],\n",
       "        [24.89105476],\n",
       "        [26.78802298],\n",
       "        [10.12559312]])"
      ]
     },
     "execution_count": 17,
     "metadata": {},
     "output_type": "execute_result"
    }
   ],
   "source": [
    "100*page_rank(N)"
   ]
  },
  {
   "cell_type": "markdown",
   "id": "962402e8-05b2-4bd6-9e58-7b02b5fc6d0c",
   "metadata": {},
   "source": [
    "yes certainly previous rank are affected the page2 and page3 are demoted to rank 5 from rank 4. Page2 is promoted from rank 5 to rank 4"
   ]
  },
  {
   "cell_type": "code",
   "execution_count": null,
   "id": "d7c078b9-c4d6-4c32-9103-8588ecbeccb5",
   "metadata": {},
   "outputs": [],
   "source": []
  }
 ],
 "metadata": {
  "kernelspec": {
   "display_name": "Python 3 (ipykernel)",
   "language": "python",
   "name": "python3"
  },
  "language_info": {
   "codemirror_mode": {
    "name": "ipython",
    "version": 3
   },
   "file_extension": ".py",
   "mimetype": "text/x-python",
   "name": "python",
   "nbconvert_exporter": "python",
   "pygments_lexer": "ipython3",
   "version": "3.11.7"
  }
 },
 "nbformat": 4,
 "nbformat_minor": 5
}
